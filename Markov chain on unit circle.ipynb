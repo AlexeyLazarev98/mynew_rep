{
 "cells": [
  {
   "cell_type": "markdown",
   "id": "8edfc31f",
   "metadata": {},
   "source": [
    "\n",
    "\n",
    "# Markov chain on unit circle\n",
    "\n",
    "\n"
   ]
  },
  {
   "cell_type": "code",
   "execution_count": 3,
   "id": "5c9ca2b4",
   "metadata": {},
   "outputs": [
    {
     "name": "stdout",
     "output_type": "stream",
     "text": [
      "Requirement already satisfied: numpy in c:\\users\\am_la\\appdata\\local\\programs\\python\\python37\\lib\\site-packages (1.21.6)\n"
     ]
    }
   ],
   "source": [
    "!pip install numpy"
   ]
  },
  {
   "cell_type": "code",
   "execution_count": 4,
   "id": "464bf714",
   "metadata": {},
   "outputs": [],
   "source": [
    "import numpy as np\n",
    "from numpy import linalg as LA"
   ]
  },
  {
   "cell_type": "code",
   "execution_count": 5,
   "id": "a9c03331",
   "metadata": {},
   "outputs": [],
   "source": [
    "A = np.matrix('0 0.5 0.5; 0.5 0 0.5; 0.5 0.5 0') "
   ]
  },
  {
   "cell_type": "code",
   "execution_count": 10,
   "id": "b01cf096",
   "metadata": {},
   "outputs": [
    {
     "data": {
      "text/plain": [
       "matrix([[0. , 0.5, 0.5],\n",
       "        [0.5, 0. , 0.5],\n",
       "        [0.5, 0.5, 0. ]])"
      ]
     },
     "execution_count": 10,
     "metadata": {},
     "output_type": "execute_result"
    }
   ],
   "source": [
    "A"
   ]
  },
  {
   "cell_type": "code",
   "execution_count": 7,
   "id": "ab5cbad3",
   "metadata": {},
   "outputs": [
    {
     "data": {
      "text/plain": [
       "array([-0.5,  1. , -0.5])"
      ]
     },
     "execution_count": 7,
     "metadata": {},
     "output_type": "execute_result"
    }
   ],
   "source": [
    "LA.eigvals(A)"
   ]
  },
  {
   "cell_type": "code",
   "execution_count": 57,
   "id": "1affdef4",
   "metadata": {},
   "outputs": [
    {
     "data": {
      "text/plain": [
       "(array([-0.5,  1. , -0.5]),\n",
       " matrix([[-0.81649658,  0.57735027,  0.0619941 ],\n",
       "         [ 0.40824829,  0.57735027, -0.73606268],\n",
       "         [ 0.40824829,  0.57735027,  0.67406859]]))"
      ]
     },
     "execution_count": 57,
     "metadata": {},
     "output_type": "execute_result"
    }
   ],
   "source": [
    "LA.eig(A)"
   ]
  },
  {
   "cell_type": "code",
   "execution_count": 8,
   "id": "3b083e85",
   "metadata": {},
   "outputs": [
    {
     "data": {
      "text/plain": [
       "matrix([[-0.81649658,  0.57735027,  0.19219669],\n",
       "        [ 0.40824829,  0.57735027, -0.7833358 ],\n",
       "        [ 0.40824829,  0.57735027,  0.59113912]])"
      ]
     },
     "execution_count": 8,
     "metadata": {},
     "output_type": "execute_result"
    }
   ],
   "source": [
    "C = LA.eig(A)[1]\n",
    "C"
   ]
  },
  {
   "cell_type": "code",
   "execution_count": 59,
   "id": "1f3b1641",
   "metadata": {},
   "outputs": [],
   "source": [
    "B = np.diag(LA.eigvals(A)) # diagonalized form of A"
   ]
  },
  {
   "cell_type": "code",
   "execution_count": 60,
   "id": "c6067b24",
   "metadata": {},
   "outputs": [
    {
     "data": {
      "text/plain": [
       "array([[-0.5,  0. ,  0. ],\n",
       "       [ 0. ,  1. ,  0. ],\n",
       "       [ 0. ,  0. , -0.5]])"
      ]
     },
     "execution_count": 60,
     "metadata": {},
     "output_type": "execute_result"
    }
   ],
   "source": [
    "B"
   ]
  },
  {
   "cell_type": "code",
   "execution_count": 11,
   "id": "65f1deb0",
   "metadata": {},
   "outputs": [],
   "source": [
    "N = 10\n"
   ]
  },
  {
   "cell_type": "code",
   "execution_count": 12,
   "id": "eed94608",
   "metadata": {},
   "outputs": [
    {
     "data": {
      "text/plain": [
       "matrix([[0.33398438, 0.33300781, 0.33300781],\n",
       "        [0.33300781, 0.33398438, 0.33300781],\n",
       "        [0.33300781, 0.33300781, 0.33398438]])"
      ]
     },
     "execution_count": 12,
     "metadata": {},
     "output_type": "execute_result"
    }
   ],
   "source": [
    "A**N"
   ]
  },
  {
   "cell_type": "code",
   "execution_count": 13,
   "id": "b248fe95",
   "metadata": {},
   "outputs": [
    {
     "ename": "NameError",
     "evalue": "name 'B' is not defined",
     "output_type": "error",
     "traceback": [
      "\u001b[1;31m---------------------------------------------------------------------------\u001b[0m",
      "\u001b[1;31mNameError\u001b[0m                                 Traceback (most recent call last)",
      "Cell \u001b[1;32mIn[13], line 1\u001b[0m\n\u001b[1;32m----> 1\u001b[0m B\u001b[39m*\u001b[39m\u001b[39m*\u001b[39mN\n",
      "\u001b[1;31mNameError\u001b[0m: name 'B' is not defined"
     ]
    }
   ],
   "source": [
    "B**N"
   ]
  },
  {
   "cell_type": "code",
   "execution_count": 64,
   "id": "40224b7f",
   "metadata": {},
   "outputs": [
    {
     "data": {
      "text/plain": [
       "matrix([[-8.16496581e-01,  3.54404400e-01,  4.62092181e-01],\n",
       "        [ 5.77350269e-01,  5.77350269e-01,  5.77350269e-01],\n",
       "        [ 3.93659459e-17, -7.09153837e-01,  7.09153837e-01]])"
      ]
     },
     "execution_count": 64,
     "metadata": {},
     "output_type": "execute_result"
    }
   ],
   "source": [
    "LA.inv(C)"
   ]
  },
  {
   "cell_type": "code",
   "execution_count": 66,
   "id": "815168fc",
   "metadata": {},
   "outputs": [
    {
     "data": {
      "text/plain": [
       "matrix([[0.33398437, 0.33300781, 0.33300781],\n",
       "        [0.33300781, 0.33398437, 0.33300781],\n",
       "        [0.33300781, 0.33300781, 0.33398437]])"
      ]
     },
     "execution_count": 66,
     "metadata": {},
     "output_type": "execute_result"
    }
   ],
   "source": [
    "C*(B**N)*LA.inv(C)"
   ]
  },
  {
   "cell_type": "code",
   "execution_count": null,
   "id": "fc9056c9",
   "metadata": {},
   "outputs": [],
   "source": []
  }
 ],
 "metadata": {
  "kernelspec": {
   "display_name": "Python 3",
   "language": "python",
   "name": "python3"
  },
  "language_info": {
   "codemirror_mode": {
    "name": "ipython",
    "version": 3
   },
   "file_extension": ".py",
   "mimetype": "text/x-python",
   "name": "python",
   "nbconvert_exporter": "python",
   "pygments_lexer": "ipython3",
   "version": "3.9.13"
  },
  "vscode": {
   "interpreter": {
    "hash": "850f9c09cfceb9ed8bf56b998c6885f06bf0debb950057176956f253d699e8bd"
   }
  }
 },
 "nbformat": 4,
 "nbformat_minor": 5
}
