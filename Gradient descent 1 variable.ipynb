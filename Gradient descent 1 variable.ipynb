{
 "cells": [
  {
   "cell_type": "code",
   "execution_count": 1,
   "id": "8e53d320",
   "metadata": {},
   "outputs": [
    {
     "name": "stdout",
     "output_type": "stream",
     "text": [
      "Salut, tout le monde!\n"
     ]
    }
   ],
   "source": [
    "print(\"Salut, tout le monde!\")"
   ]
  },
  {
   "cell_type": "code",
   "execution_count": 3,
   "id": "91f487f1",
   "metadata": {},
   "outputs": [
    {
     "data": {
      "text/plain": [
       "2"
      ]
     },
     "execution_count": 3,
     "metadata": {},
     "output_type": "execute_result"
    }
   ],
   "source": [
    "(lambda x: x+1)(1)"
   ]
  },
  {
   "cell_type": "code",
   "execution_count": 6,
   "id": "528396d4",
   "metadata": {},
   "outputs": [],
   "source": [
    "def f(x):\n",
    "    return x**2"
   ]
  },
  {
   "cell_type": "code",
   "execution_count": 8,
   "id": "93d2fadb",
   "metadata": {},
   "outputs": [
    {
     "data": {
      "text/plain": [
       "16"
      ]
     },
     "execution_count": 8,
     "metadata": {},
     "output_type": "execute_result"
    }
   ],
   "source": [
    "f(-4)"
   ]
  },
  {
   "cell_type": "markdown",
   "id": "d7006b43",
   "metadata": {},
   "source": [
    "gradient descent"
   ]
  },
  {
   "cell_type": "code",
   "execution_count": 9,
   "id": "eeb19f24",
   "metadata": {},
   "outputs": [],
   "source": [
    "import numpy as np"
   ]
  },
  {
   "cell_type": "code",
   "execution_count": 36,
   "id": "e8434ffb",
   "metadata": {},
   "outputs": [
    {
     "name": "stdout",
     "output_type": "stream",
     "text": [
      "4.0\n",
      "3.2\n",
      "3.2\n",
      "2.56\n",
      "2.56\n",
      "2.048\n",
      "2.048\n",
      "1.6384\n",
      "1.6384\n",
      "1.31072\n",
      "1.31072\n",
      "1.0485760000000002\n",
      "1.0485760000000002\n",
      "0.8388608000000002\n",
      "0.8388608000000002\n",
      "0.6710886400000001\n",
      "0.6710886400000001\n",
      "0.5368709120000001\n",
      "0.5368709120000001\n",
      "0.4294967296000001\n",
      "0.4294967296000001\n",
      "0.3435973836800001\n",
      "0.3435973836800001\n",
      "0.27487790694400005\n",
      "0.27487790694400005\n",
      "0.21990232555520003\n",
      "0.21990232555520003\n",
      "0.17592186044416003\n",
      "0.17592186044416003\n",
      "0.140737488355328\n",
      "0.140737488355328\n",
      "0.11258999068426241\n",
      "0.11258999068426241\n",
      "0.09007199254740993\n",
      "0.09007199254740993\n",
      "0.07205759403792794\n",
      "0.07205759403792794\n",
      "0.057646075230342354\n",
      "0.057646075230342354\n",
      "0.04611686018427388\n",
      "0.04611686018427388\n",
      "0.03689348814741911\n",
      "0.03689348814741911\n"
     ]
    }
   ],
   "source": [
    "a = 0.1\n",
    "eps = 0.01\n",
    "start = 5\n",
    "nnext = start - a*2*start\n",
    "while(abs(start - nnext)>eps):\n",
    "    #a = a/1.001\n",
    "    start = nnext\n",
    "    nnext = start - a*2*start\n",
    "    print(start)\n",
    "    print(nnext)\n",
    "print(nnext)"
   ]
  },
  {
   "cell_type": "code",
   "execution_count": null,
   "id": "939f20ac",
   "metadata": {},
   "outputs": [],
   "source": []
  }
 ],
 "metadata": {
  "kernelspec": {
   "display_name": "Python 3 (ipykernel)",
   "language": "python",
   "name": "python3"
  },
  "language_info": {
   "codemirror_mode": {
    "name": "ipython",
    "version": 3
   },
   "file_extension": ".py",
   "mimetype": "text/x-python",
   "name": "python",
   "nbconvert_exporter": "python",
   "pygments_lexer": "ipython3",
   "version": "3.9.12"
  }
 },
 "nbformat": 4,
 "nbformat_minor": 5
}
